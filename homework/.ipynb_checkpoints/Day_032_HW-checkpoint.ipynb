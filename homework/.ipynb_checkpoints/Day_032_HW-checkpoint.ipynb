{
 "cells": [
  {
   "cell_type": "markdown",
   "metadata": {},
   "source": [
    "### 作業 1：目標\n",
    "To find a more accurate picture using existing resources\n",
    "\n",
    "### 作業 2：方法\n",
    "The grid estimation algorithm (a modified version of Dijkstra’s shortest path; shared here) seeks to make connections in the most efficient way possible. Using known electrical grids as templates (based on data available from energydata.info), grid paths are encouraged to follow roads, avoid water, and prefer shorter paths. \n",
    "\n",
    "### 作業 3：資料來源\n",
    "the World Bank’s open energy data repository\n",
    "a sequence of monthly composite images covering a period of five years (2012 to 2016)\n",
    "\n",
    "\n",
    "https://code.fb.com/connectivity/electrical-grid-mapping/"
   ]
  }
 ],
 "metadata": {
  "kernelspec": {
   "display_name": "Python 3",
   "language": "python",
   "name": "python3"
  },
  "language_info": {
   "codemirror_mode": {
    "name": "ipython",
    "version": 3
   },
   "file_extension": ".py",
   "mimetype": "text/x-python",
   "name": "python",
   "nbconvert_exporter": "python",
   "pygments_lexer": "ipython3",
   "version": "3.7.3"
  }
 },
 "nbformat": 4,
 "nbformat_minor": 2
}
