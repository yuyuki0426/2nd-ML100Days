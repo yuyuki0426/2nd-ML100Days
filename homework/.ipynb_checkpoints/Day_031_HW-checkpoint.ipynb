{
 "cells": [
  {
   "cell_type": "markdown",
   "metadata": {},
   "source": [
    "工廠人力流動快速，人力的流失造成製造成本的提高，如能準確預測下周離職率，則可準確補上缺少的人力，以防止產量減少，並且分析離職高影響因子，進而制定留才政策。"
   ]
  }
 ],
 "metadata": {
  "kernelspec": {
   "display_name": "Python 3",
   "language": "python",
   "name": "python3"
  },
  "language_info": {
   "codemirror_mode": {
    "name": "ipython",
    "version": 3
   },
   "file_extension": ".py",
   "mimetype": "text/x-python",
   "name": "python",
   "nbconvert_exporter": "python",
   "pygments_lexer": "ipython3",
   "version": "3.7.3"
  }
 },
 "nbformat": 4,
 "nbformat_minor": 2
}
